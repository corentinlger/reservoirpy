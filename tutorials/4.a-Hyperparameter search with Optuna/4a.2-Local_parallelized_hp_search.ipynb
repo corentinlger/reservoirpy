{
 "cells": [
  {
   "attachments": {},
   "cell_type": "markdown",
   "id": "6032fbb7",
   "metadata": {},
   "source": [
    "# Local parallelization of Hyper Parameter Search\n"
   ]
  },
  {
   "attachments": {},
   "cell_type": "markdown",
   "id": "dd05ebc6",
   "metadata": {},
   "source": [
    "In this notebook, we will tackle the same problem as before but with a focus on parallelization using multiple CPU cores.\n",
    "\n",
    "Thanks to the joblib library, we will define a new `optimize_study` function and implement the necessary code for parallel execution. This parallelization can significantly speed up the hyperparameter search process.\n",
    "\n",
    "Additionally, we will provide an example to determine the optimal number of processes to use based on your local computer's capabilities."
   ]
  },
  {
   "attachments": {},
   "cell_type": "markdown",
   "id": "10ce110b",
   "metadata": {},
   "source": [
    "### Step 1 : Prepare your data "
   ]
  },
  {
   "attachments": {},
   "cell_type": "markdown",
   "id": "a2038a4d",
   "metadata": {},
   "source": [
    "The first 3 steps are the same than in the 1st tutorial that explains how to conduct an hyperparameter search with optuna. You can directly jump to the 4th step if you are already familiar with it."
   ]
  },
  {
   "cell_type": "code",
   "execution_count": 4,
   "id": "1bdcc0d1",
   "metadata": {
    "pycharm": {
     "name": "#%%\n"
    }
   },
   "outputs": [],
   "source": [
    "import numpy as np\n",
    "import reservoirpy as rpy\n",
    "\n",
    "from reservoirpy.nodes import Reservoir, Ridge\n",
    "from reservoirpy.datasets import doublescroll\n",
    "from reservoirpy.observables import nrmse, rsquare"
   ]
  },
  {
   "cell_type": "code",
   "execution_count": 3,
   "id": "78c3469a",
   "metadata": {
    "pycharm": {
     "name": "#%%\n"
    }
   },
   "outputs": [],
   "source": [
    "timesteps = 2000\n",
    "x0 = [0.37926545, 0.058339, -0.08167691]\n",
    "X = doublescroll(timesteps, x0=x0, method=\"RK23\")\n",
    "\n",
    "train_len = 1000\n",
    "\n",
    "X_train = X[:train_len]\n",
    "y_train = X[1 : train_len + 1]\n",
    "\n",
    "X_test = X[train_len : -1]\n",
    "y_test = X[train_len + 1:]\n",
    "\n",
    "dataset = ((X_train, y_train), (X_test, y_test))"
   ]
  },
  {
   "attachments": {},
   "cell_type": "markdown",
   "id": "35615813",
   "metadata": {},
   "source": [
    "### Step 2: Define fixed parameters for the hyper parameter search"
   ]
  },
  {
   "cell_type": "code",
   "execution_count": 5,
   "id": "d9113a69",
   "metadata": {},
   "outputs": [],
   "source": [
    "import os\n",
    "import time\n",
    "import joblib\n",
    "import optuna\n",
    "import datetime\n",
    "import matplotlib.pyplot as plt\n",
    "\n",
    "from optuna.storages import JournalStorage, JournalFileStorage\n",
    "\n",
    "optuna.logging.set_verbosity(optuna.logging.ERROR)\n",
    "rpy.verbosity(0)"
   ]
  },
  {
   "cell_type": "code",
   "execution_count": 5,
   "id": "cecb67d1",
   "metadata": {},
   "outputs": [],
   "source": [
    "# Trial Fixed hyper-parameters\n",
    "nb_seeds = 3\n",
    "N = 500\n",
    "iss = 0.9\n",
    "ridge = 1e-7"
   ]
  },
  {
   "attachments": {},
   "cell_type": "markdown",
   "id": "b6a8762b",
   "metadata": {},
   "source": [
    "### Step 3: Define an Objective Function"
   ]
  },
  {
   "cell_type": "code",
   "execution_count": 6,
   "id": "addfe513",
   "metadata": {},
   "outputs": [],
   "source": [
    "def objective(trial):\n",
    "    # Record objective values for each trial\n",
    "    losses = []\n",
    "\n",
    "    # Trial generated parameters (with log scale)\n",
    "    sr = trial.suggest_float(\"sr_1\", 1e-2, 10, log=True)\n",
    "    lr = trial.suggest_float(\"lr_1\", 1e-3, 1, log=True)\n",
    "\n",
    "    for seed in range(nb_seeds):\n",
    "        reservoir = Reservoir(N,\n",
    "                              sr=sr,\n",
    "                              lr=lr,\n",
    "                              input_scaling=iss,\n",
    "                              seed=seed)\n",
    "        \n",
    "        readout = Ridge(ridge=ridge)\n",
    "\n",
    "        model = reservoir >> readout\n",
    "\n",
    "        # Train and test your model\n",
    "        predictions = model.fit(X_train, y_train).run(X_test)\n",
    "\n",
    "        # Compute the desired metrics\n",
    "        loss = nrmse(y_test, predictions, norm_value=np.ptp(X_train))\n",
    "\n",
    "        losses.append(loss)\n",
    "\n",
    "    return np.mean(losses)"
   ]
  },
  {
   "attachments": {},
   "cell_type": "markdown",
   "id": "0d494f05",
   "metadata": {},
   "source": [
    "### Step 4: Create a Study Optimization function"
   ]
  },
  {
   "attachments": {},
   "cell_type": "markdown",
   "id": "19f2da3e",
   "metadata": {},
   "source": [
    "We will use the `optimize_study` function with joblib to run multiple trials in parallel.\n",
    "\n",
    "By using joblib's Parallel and delayed functionalities, we can distribute the hyperparameter optimization process across several CPU cores, simultaneously evaluating different trials. This parallelization will accelerate the search for optimal hyperparameters and improve the efficiency of the optimization process.\n",
    "\n",
    "For the storage, a SQlite one (like in the first tutorial) is not recommended to run parallel experiments as mentionned [here](https://optuna.readthedocs.io/en/stable/tutorial/10_key_features/004_distributed.html). Instead, you can use [other storages](https://optuna.readthedocs.io/en/stable/reference/storages.html) proposed by the library. Here we use a `JournalStorage` (If you use Windows and have problems with this storage, you can try to use a SQL one instead). "
   ]
  },
  {
   "cell_type": "code",
   "execution_count": null,
   "id": "64e8c089",
   "metadata": {},
   "outputs": [],
   "source": [
    "# Define study parameters\n",
    "nb_trials = 32\n",
    "\n",
    "sampler = optuna.samplers.RandomSampler() \n",
    "\n",
    "study_name = 'optuna_tutorial'\n",
    "log_name = f\"optuna-journal_{study_name}.log\"\n",
    "\n",
    "storage = JournalStorage(JournalFileStorage(log_name))"
   ]
  },
  {
   "attachments": {},
   "cell_type": "markdown",
   "id": "c72596ce",
   "metadata": {},
   "source": [
    "The argument `load_if_exists=True`enables several processes running in parallel to connect to the same storage."
   ]
  },
  {
   "cell_type": "code",
   "execution_count": 10,
   "id": "a2bab217",
   "metadata": {},
   "outputs": [],
   "source": [
    "def optimize_study(n_trials):\n",
    "    study = optuna.create_study(\n",
    "        study_name='paralellization_tutorial',\n",
    "        direction='minimize',\n",
    "        storage=storage,\n",
    "        sampler=optuna.samplers.RandomSampler(),\n",
    "        load_if_exists=True\n",
    "    )\n",
    "\n",
    "    for i in range(n_trials):\n",
    "        trial = study.ask()\n",
    "        study.tell(trial, objective(trial))"
   ]
  },
  {
   "attachments": {},
   "cell_type": "markdown",
   "id": "497274e7",
   "metadata": {},
   "source": [
    "### Step 5: Evaluate the optimal number of processes"
   ]
  },
  {
   "cell_type": "code",
   "execution_count": null,
   "id": "933c7e34",
   "metadata": {},
   "outputs": [
    {
     "name": "stdout",
     "output_type": "stream",
     "text": [
      "Number of available CPUs : 8\n"
     ]
    }
   ],
   "source": [
    "nb_cpus = os.cpu_count()\n",
    "print(f\"Number of available CPUs : {nb_cpus}\")"
   ]
  },
  {
   "attachments": {},
   "cell_type": "markdown",
   "id": "15ef1e90",
   "metadata": {},
   "source": [
    "The following function tests the speed of the optimization process for several values of processes (`n_processes`). This function enables you to determine the most efficient number of processes for your specific task. You can experiment with different values (inferior to `nb_cpus`), even on shorter or smaller tasks, to find the optimal configuration. Once you've identified the best number of processes, you can then apply it to the actual task you intend to perform, ensuring optimal performance.\n",
    "\n",
    "It measures the time taken to complete the optimization with each number of processes and stores the results in the times list. The code divides the total number of trials (`nb_trials`) by the number of processes to determine `n_trials_per_process`. It then uses joblib's Parallel and delayed to run optimize_study function with the specified number of trials (`n_trials_per_process`) in parallel. "
   ]
  },
  {
   "cell_type": "code",
   "execution_count": 11,
   "id": "3aefde76",
   "metadata": {},
   "outputs": [
    {
     "name": "stdout",
     "output_type": "stream",
     "text": [
      "\n",
      "Optization with n_process = 1\n",
      "Optimization with 1 process(es) done in 0:01:04.034894\n",
      "\n",
      "Optization with n_process = 2\n"
     ]
    },
    {
     "name": "stderr",
     "output_type": "stream",
     "text": [
      "\u001b[32m[I 2023-07-28 14:00:03,312]\u001b[0m Using an existing study with name 'paralellization_tutorial' instead of creating a new one.\u001b[0m\n",
      "\u001b[32m[I 2023-07-28 14:00:03,324]\u001b[0m Using an existing study with name 'paralellization_tutorial' instead of creating a new one.\u001b[0m\n"
     ]
    },
    {
     "name": "stdout",
     "output_type": "stream",
     "text": [
      "Optimization with 2 process(es) done in 0:00:33.124385\n",
      "\n",
      "Optization with n_process = 4\n"
     ]
    },
    {
     "name": "stderr",
     "output_type": "stream",
     "text": [
      "\u001b[32m[I 2023-07-28 14:00:36,677]\u001b[0m Using an existing study with name 'paralellization_tutorial' instead of creating a new one.\u001b[0m\n",
      "\u001b[32m[I 2023-07-28 14:00:36,699]\u001b[0m Using an existing study with name 'paralellization_tutorial' instead of creating a new one.\u001b[0m\n",
      "\u001b[32m[I 2023-07-28 14:00:36,736]\u001b[0m Using an existing study with name 'paralellization_tutorial' instead of creating a new one.\u001b[0m\n",
      "\u001b[32m[I 2023-07-28 14:00:36,803]\u001b[0m Using an existing study with name 'paralellization_tutorial' instead of creating a new one.\u001b[0m\n"
     ]
    },
    {
     "name": "stdout",
     "output_type": "stream",
     "text": [
      "Optimization with 4 process(es) done in 0:00:18.272678\n",
      "\n",
      "Optization with n_process = 8\n"
     ]
    },
    {
     "name": "stderr",
     "output_type": "stream",
     "text": [
      "\u001b[32m[I 2023-07-28 14:00:55,097]\u001b[0m Using an existing study with name 'paralellization_tutorial' instead of creating a new one.\u001b[0m\n",
      "\u001b[32m[I 2023-07-28 14:00:55,099]\u001b[0m Using an existing study with name 'paralellization_tutorial' instead of creating a new one.\u001b[0m\n",
      "\u001b[32m[I 2023-07-28 14:00:55,122]\u001b[0m Using an existing study with name 'paralellization_tutorial' instead of creating a new one.\u001b[0m\n",
      "\u001b[32m[I 2023-07-28 14:00:55,138]\u001b[0m Using an existing study with name 'paralellization_tutorial' instead of creating a new one.\u001b[0m\n",
      "\u001b[32m[I 2023-07-28 14:00:55,139]\u001b[0m Using an existing study with name 'paralellization_tutorial' instead of creating a new one.\u001b[0m\n",
      "\u001b[32m[I 2023-07-28 14:00:55,201]\u001b[0m Using an existing study with name 'paralellization_tutorial' instead of creating a new one.\u001b[0m\n",
      "\u001b[32m[I 2023-07-28 14:00:55,210]\u001b[0m Using an existing study with name 'paralellization_tutorial' instead of creating a new one.\u001b[0m\n",
      "\u001b[32m[I 2023-07-28 14:00:55,278]\u001b[0m Using an existing study with name 'paralellization_tutorial' instead of creating a new one.\u001b[0m\n"
     ]
    },
    {
     "name": "stdout",
     "output_type": "stream",
     "text": [
      "Optimization with 8 process(es) done in 0:00:10.980919\n"
     ]
    }
   ],
   "source": [
    "n_processes = [1, 2, 4, 8]\n",
    "times = []\n",
    "\n",
    "for n_process in n_processes:\n",
    "    print(\"\")\n",
    "    print(f\"Optization with n_process = {n_process}\")\n",
    "    start = time.time()\n",
    "\n",
    "    n_trials_per_process = nb_trials // n_process\n",
    "    args_list = [n_trials_per_process for i in range(n_process)]\n",
    "\n",
    "    joblib.Parallel(n_jobs=n_process)(joblib.delayed(optimize_study)(args) for args in args_list)\n",
    "\n",
    "    end = time.time()\n",
    "    times.append(end - start)\n",
    "    print(f\"Done in {str(datetime.timedelta(seconds=end-start))}\")"
   ]
  },
  {
   "cell_type": "code",
   "execution_count": 13,
   "id": "3b18e990",
   "metadata": {},
   "outputs": [
    {
     "data": {
      "image/png": "[encoded data removed]",
      "text/plain": [
       "<Figure size 900x400 with 1 Axes>"
      ]
     },
     "metadata": {},
     "output_type": "display_data"
    }
   ],
   "source": [
    "plt.figure(figsize=(9,4))\n",
    "plt.bar(range(len(n_processes)), times)\n",
    "plt.xticks(range(len(n_processes)), n_processes)\n",
    "plt.xlabel(\"Processes\")\n",
    "plt.ylabel(\"Time\")\n",
    "plt.show()"
   ]
  },
  {
   "attachments": {},
   "cell_type": "markdown",
   "id": "ce7d0c9f",
   "metadata": {},
   "source": [
    "In this specific case, it seems useful to run our hyper parameter search with a large number of processes\n"
   ]
  }
 ],
 "metadata": {
  "kernelspec": {
   "display_name": "Python 3 (ipykernel)",
   "language": "python",
   "name": "python3"
  },
  "language_info": {
   "codemirror_mode": {
    "name": "ipython",
    "version": 3
   },
   "file_extension": ".py",
   "mimetype": "text/x-python",
   "name": "python",
   "nbconvert_exporter": "python",
   "pygments_lexer": "ipython3",
   "version": "3.10.6"
  }
 },
 "nbformat": 4,
 "nbformat_minor": 5
}
